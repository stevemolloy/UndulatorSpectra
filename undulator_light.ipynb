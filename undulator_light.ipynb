{
 "cells": [
  {
   "cell_type": "markdown",
   "metadata": {},
   "source": [
    "# Introduction\n",
    "This text gives an introduction to the undulator code in this package, with a concentration on the physics/maths implemented within it rather than instructions on how to use the code.  Such instructions will be documented later."
   ]
  },
  {
   "cell_type": "markdown",
   "metadata": {},
   "source": [
    "# ElectronBeam\n",
    "The electron-beam is represented by a dictionary.  For example,\n",
    "```\n",
    "ebeam = {\n",
    "    'energy': 3.0e9,\n",
    "    'emitx': 340e-12,\n",
    "    'emity': 8e-12,\n",
    "    'betax': 9,\n",
    "    'betay': 4.7,\n",
    "    'espread': 0.8e-3,\n",
    "}\n",
    "```\n",
    "Since this is Python, not all of these quantities will need to be defined for any particular function to work.  For example, the `beamgamma` function only needs the `'energy'` field to be present, and none of the others.  If you browse the code found in the `ebeam.py` module, you can see that many of the functions can be turned into simple look-ups by adding extra fields to the dictionary.\n",
    "\n",
    "The `ebeam.py` module assumes that the beam has a waist at the centre of the undulator, and that the dispersion has been nulled for this section of the accelerator, and so the 4D transverse spot size can be calculated directly.\n",
    "\n",
    "$$\\sigma_{x,y}=\\sqrt{\\epsilon_{x,y}\\beta_{x,y}}$$\n",
    "$$\\sigma'_{x,y}=\\sqrt{\\frac{\\epsilon_{x,y}}{\\beta_{x,y}}}$$"
   ]
  },
  {
   "cell_type": "markdown",
   "metadata": {},
   "source": [
    "# InsertionDevice\n",
    "The representation of the insertion device is also a simple Python dictionary.  For example,\n",
    "```\n",
    "ins_dev = {\n",
    "    'Kmax': 1.38,\n",
    "    'lamda_w': 18e-3,\n",
    "    'Np': 111,\n",
    "    'L': 2,\n",
    "}\n",
    "```"
   ]
  },
  {
   "cell_type": "markdown",
   "metadata": {},
   "source": [
    "# Undulator.py\n",
    "This is the module containing the vast majority of the physics complexity.\n",
    "\n",
    "## Spectral properties\n",
    "The wavelength, $\\lambda_n$, of a particular harmonic, $n$, when viewed with an angle, $\\theta$, with respect to the forward direction is calculated as follows.\n",
    "\n",
    "$$\n",
    "\\lambda_n = \\frac{\\lambda_w}{2n\\gamma_0^2}\\left(1 + K_{max}^2 + \\gamma_0^2\\theta^2\\right)\n",
    "$$\n",
    "\n",
    "From this, the photo energy, $E_\\gamma$, can be calculated (where $h$, $c$, and $e$, are the usual physical constants).\n",
    "\n",
    "$$\n",
    "E_\\gamma = \\frac{hc}{e}\\frac{1}{\\lambda_n}\n",
    "$$\n",
    "\n",
    "There are two primary contributors to the width of each spectral line: the finite number of undulator periods, and the spread of the beam parameters that appear in that expression (i.e., the electron energy and divergence).\n",
    "\n",
    "### Beam contribution\n",
    "The width, $\\sigma_{\\lambda_{n,b}}$, due to the electron beam parameter spreads is calculated from a Taylor expansion of the $\\lambda_n$ expression.\n",
    "\n",
    "$$\\Delta\\lambda_n = \\frac{\\partial\\lambda_n}{\\partial \\gamma} \\Bigr|_{\\substack{\\gamma=\\gamma_0}} \\cdot \\Delta\\gamma + \\frac{\\partial\\lambda_n}{\\partial\\Theta}\\Bigr|_{\\substack{\\Theta=0}}\\cdot\\Delta\\Theta + \\frac{1}{2}\\frac{\\partial^2\\lambda_n}{\\partial\\Theta^2}\\Bigr|_{\\substack{\\Theta=0}}\\cdot\\Delta\\Theta^2\n",
    "$$\n",
    "\n",
    "$$\n",
    "\\frac{\\partial\\lambda_n}{\\partial \\gamma}\\Bigr|_{\\substack{\\gamma=\\gamma_0}} = -\\frac{1}{n\\gamma_0^3}\\left(1+K_w^2\\right)\\lambda_w\n",
    "$$\n",
    "\n",
    "$$\n",
    "\\frac{\\partial\\lambda_n}{\\partial\\Theta}\\Bigr|_{\\substack{\\Theta=0}}=\\frac{\\Theta\\lambda_w}{n}\\Bigr|_{\\substack{\\Theta=0}} = 0\n",
    "$$\n",
    "\n",
    "$$\n",
    "\\frac{\\partial^2\\lambda_n}{\\partial\\Theta^2}\\Bigr|_{\\substack{\\Theta=0}}=\\frac{\\lambda_w}{n}\n",
    "$$\n",
    "\n",
    "To calculate the RMS spread, it is assumed that the distributions of the energy-spread and the angular divergence are uncorrelated, and so can be added in quadrature.\n",
    "\n",
    "$$\n",
    "\\sigma_{\\lambda_{n,b}}^2 = \\left(-\\frac{1}{n}\\frac{1}{\\gamma_0^3}\\left(1+K_w^2\\right)\\lambda_w\\cdot\\Delta\\gamma\\right)^2 + \\left(\\frac{1}{2}\\frac{1}{n}\\lambda_w\\cdot\\Delta\\Theta^2\\right)^2\n",
    "$$\n",
    "\n",
    "### Undulator contribution\n",
    "The energy spectrum, $\\frac{dW_n}{d\\omega}$, of the $n$-th harmonic goes as follows.\n",
    "\n",
    "$$\n",
    "\\frac{dW_n}{d\\omega} \\propto \\left(\\frac{\\sin\\left(\\pi N_p \\frac{\\Delta\\omega_n}{\\omega_1}\\right)}{\\pi N_p \\frac{\\Delta\\omega_n}{\\omega_n}}\\right)^2\n",
    "$$\n",
    "\n",
    "In many texts, the width of the spectrum due to the $\\frac{\\sin\\left(Nx\\right)}{Nx}$ is often approximated as the point at which this function first passes through zero.  This solution results in, $\\frac{\\Delta\\omega_n}{\\omega_n}=\\pm\\frac{1}{nN_p}$.  Unfortunately this does not match well with the RMS widths used elsewhere in the code, and so a different point is chosen.\n",
    "\n",
    "$$\n",
    "\\frac{\\sin\\left(Nx\\right)}{Nx} = \\sqrt{\\frac{1}{2}} \\Longrightarrow \\frac{\\Delta\\omega_n}{\\omega_n}=\\frac{0.225079}{N_p}\n",
    "$$\n",
    "\n",
    "This results in a spectral width, $\\sigma_{\\lambda_{n,u}}$, due to the finite number of periods in the undulator of,\n",
    "$$\n",
    "\\sigma_{\\lambda_{n,u}} = 0.225079\\frac{1}{nN_p}\\lambda_n\n",
    "$$\n",
    "\n",
    "### Total spectral width\n",
    "The beam contribution and the undulator contribution should be convoluted to optain the total width, however it is enough to add the contributions in quadrature.\n",
    "\n",
    "$$\n",
    "\\sigma_{\\lambda_{n,total}}^2 = \\left(-\\frac{1}{n}\\frac{1}{\\gamma_0^3}\\left(1+K_w^2\\right)\\lambda_w\\cdot\\Delta\\gamma\\right)^2 + \\left(\\frac{1}{2}\\frac{1}{n}\\lambda_w\\cdot\\Delta\\Theta^2\\right)^2 + \\left(0.225079\\frac{1}{nN_p}\\lambda_n\\right)^2\n",
    "$$"
   ]
  },
  {
   "cell_type": "markdown",
   "metadata": {},
   "source": [
    "## Example of a calculation of spectral properties\n",
    "In the following I will give an example of how a calculation of the spectral properties of the light generated by an undulator could be calculated.  The values chosen are those of the NanoMAX beamline at MAX-IV.\n",
    "\n",
    "First import the necessary components."
   ]
  },
  {
   "cell_type": "code",
   "execution_count": 6,
   "metadata": {},
   "outputs": [],
   "source": [
    "#from undulator.ebeam import sigy, sigyp, sigx, sigxp\n",
    "from undulator.undulator import Undulator"
   ]
  },
  {
   "cell_type": "markdown",
   "metadata": {},
   "source": [
    "Then create a beam (as a dictionary), and perform a few calculations."
   ]
  },
  {
   "cell_type": "code",
   "execution_count": 3,
   "metadata": {},
   "outputs": [
    {
     "name": "stdout",
     "output_type": "stream",
     "text": [
      "Vertical size RMS = 6.132 um\n",
      "Vertical divergence RMS = 1.305 urad\n",
      "Horizontal size RMS = 55.317 um\n",
      "Horizontal divergence RMS = 6.146 urad\n"
     ]
    }
   ],
   "source": [
    "ebeam = {\n",
    "    'energy': 3e9,\n",
    "    'emitx': 340e-12,\n",
    "    'emity': 8e-12,\n",
    "    'betax': 9,\n",
    "    'betay': 4.7,\n",
    "    'espread': 0.8e-3,\n",
    "}\n",
    "print(f'Vertical size RMS = {sigy(ebeam)*1e6:0.3f} um')\n",
    "print(f'Vertical divergence RMS = {sigyp(ebeam)*1e6:0.3f} urad')\n",
    "print(f'Horizontal size RMS = {sigx(ebeam)*1e6:0.3f} um')\n",
    "print(f'Horizontal divergence RMS = {sigxp(ebeam)*1e6:0.3f} urad')"
   ]
  },
  {
   "cell_type": "markdown",
   "metadata": {},
   "source": [
    "Now create a dictionary to represent the insertion device, and calculate its first harmonic (wavelength and photon energy)."
   ]
  },
  {
   "cell_type": "code",
   "execution_count": 5,
   "metadata": {},
   "outputs": [
    {
     "ename": "AttributeError",
     "evalue": "module 'undulator.undulator' has no attribute 'lamda_n'",
     "output_type": "error",
     "traceback": [
      "\u001b[0;31m---------------------------------------------------------------------------\u001b[0m",
      "\u001b[0;31mAttributeError\u001b[0m                            Traceback (most recent call last)",
      "\u001b[0;32m<ipython-input-5-d10b918be0d7>\u001b[0m in \u001b[0;36m<module>\u001b[0;34m\u001b[0m\n\u001b[1;32m     11\u001b[0m \u001b[0;34m\u001b[0m\u001b[0m\n\u001b[1;32m     12\u001b[0m \u001b[0mn\u001b[0m\u001b[0;34m=\u001b[0m\u001b[0;36m1\u001b[0m\u001b[0;34m\u001b[0m\u001b[0;34m\u001b[0m\u001b[0m\n\u001b[0;32m---> 13\u001b[0;31m \u001b[0mwavel\u001b[0m \u001b[0;34m=\u001b[0m \u001b[0mphys\u001b[0m\u001b[0;34m.\u001b[0m\u001b[0mlamda_n\u001b[0m\u001b[0;34m(\u001b[0m\u001b[0mins_dev\u001b[0m\u001b[0;34m,\u001b[0m \u001b[0mebeam\u001b[0m\u001b[0;34m)\u001b[0m\u001b[0;34m\u001b[0m\u001b[0;34m\u001b[0m\u001b[0m\n\u001b[0m\u001b[1;32m     14\u001b[0m \u001b[0mphotonE\u001b[0m \u001b[0;34m=\u001b[0m \u001b[0mphys\u001b[0m\u001b[0;34m.\u001b[0m\u001b[0menergy_n\u001b[0m\u001b[0;34m(\u001b[0m\u001b[0mins_dev\u001b[0m\u001b[0;34m,\u001b[0m \u001b[0mebeam\u001b[0m\u001b[0;34m)\u001b[0m\u001b[0;34m\u001b[0m\u001b[0;34m\u001b[0m\u001b[0m\n\u001b[1;32m     15\u001b[0m \u001b[0mprint\u001b[0m\u001b[0;34m(\u001b[0m\u001b[0;34mf'Central wavelength = {1e9 * wavel:0.30f} nm'\u001b[0m\u001b[0;34m)\u001b[0m\u001b[0;34m\u001b[0m\u001b[0;34m\u001b[0m\u001b[0m\n",
      "\u001b[0;31mAttributeError\u001b[0m: module 'undulator.undulator' has no attribute 'lamda_n'"
     ]
    }
   ],
   "source": [
    "K = 1.38\n",
    "lamda_w = 18e-3\n",
    "E = 3e9\n",
    "\n",
    "ins_dev = {\n",
    "    'Kmax': K,\n",
    "    'lamda_w': lamda_w,\n",
    "    'Np': 111,\n",
    "    'L': 2,\n",
    "}\n",
    "\n",
    "n=1\n",
    "wavel = phys.lamda_n(ins_dev, ebeam)\n",
    "photonE = phys.energy_n(ins_dev, ebeam)\n",
    "print(f'Central wavelength = {1e9 * wavel:0.30f} nm')\n",
    "print(f'Corresponds to a photon energy of {1e-3 * photonE:0.3f} keV')"
   ]
  },
  {
   "cell_type": "markdown",
   "metadata": {},
   "source": [
    "Remember that the spectral width of the light will have a component that depends on the number of periods in the undulator and a component that depends on the spread of the energy and the divergence of the electron beam.  As well as calculating the total spectral width, the individual components can also be determined."
   ]
  },
  {
   "cell_type": "code",
   "execution_count": 8,
   "metadata": {},
   "outputs": [
    {
     "name": "stdout",
     "output_type": "stream",
     "text": [
      "1.214e-12\n",
      "1.538e-12\n",
      "1.959e-12\n"
     ]
    }
   ],
   "source": [
    "print(f'{phys.spectralwidth_ebeam(ins_dev, ebeam):0.3e}')\n",
    "print(f'{phys.spectralwidth_undulator(ins_dev, ebeam):0.3e}')\n",
    "print(f'{phys.spectralwidth_total(ins_dev, ebeam):0.3e}')"
   ]
  },
  {
   "cell_type": "markdown",
   "metadata": {},
   "source": [
    "## Transverse Size\n",
    "The transverse size of the apparent source of the undulator light is a combination of the diffraction limited spot size and the transverse size fna divergence of the electron beam as it transits the undulator."
   ]
  },
  {
   "cell_type": "markdown",
   "metadata": {},
   "source": [
    "### Diffraction limited source size\n",
    "The diffraction limited spot size, $\\sigma_{diff}$, can be shown to be the following.\n",
    "$$\n",
    "\\sigma_{diff} = \\frac{1}{2\\pi}\\sqrt{\\frac{1}{2}\\lambda_nL}\n",
    "$$\n",
    "\n",
    "With the diffraction limited divergence, $\\sigma'_{diff}$, being.\n",
    "$$\n",
    "\\sigma'_{diff} = \\frac{1}{2\\pi}\\sqrt{\\frac{1}{2}\\frac{\\lambda_n}{L}}\n",
    "$$\n",
    "\n",
    "### Total source size\n",
    "The total source size is the quadrature sum of several components:\n",
    "1. The diffraction limited source size, $\\sigma_{diff}$, as given above.\n",
    "2. The RMS size, $\\sigma_{b:x,y,x',y'}$, of the electron bunch in that plane of motion.\n",
    "3. The average change in size of the bunch (in that plane of motion) as it traverses the undulator.  Note this is only true with the assumption that the electron beam optics lead to a waist within the undulator.\n",
    "4. The apparent increase in size due to the oscillating path of the bunch within the undulator.\n",
    "\n",
    "Note that the divergence of the electron beam is not affected by the undulator, and so only the first two points apply to the apparent source divergence.\n",
    "\n",
    "$$\n",
    "\\sigma_{x,y}^2 = \\sigma_{diff}^2 +  \\sigma_{b:x,y}^2 + \\frac{1}{3}\\left(\\frac{1}{2}\\sigma_{x',y'}L\\right)^2 + \\left(\\frac{\\lambda_wK_{max}}{2\\pi\\gamma_0}\\right)^2\n",
    "$$\n",
    "\n",
    "$$\n",
    "\\sigma_{x',y'}^2 = \\sigma_{diff}'^2 +  \\sigma_{b:x',y'}^2\n",
    "$$"
   ]
  },
  {
   "cell_type": "markdown",
   "metadata": {},
   "source": [
    "## Example of a calculation of the apparent source size\n",
    "Blah blah"
   ]
  },
  {
   "cell_type": "markdown",
   "metadata": {},
   "source": [
    "## Brightness\n",
    "The brightness, $B$, of a photon beam from an undulator is defined as being inversely proportional to the 4D apparent source volume and the energy spread of the photons.\n",
    "\n",
    "It is also proportional to the electron beam current, $I_b4.\n",
    "\n",
    "$$\n",
    "B \\propto \\frac{I_b}{\\sigma_x\\sigma_x'\\sigma_y\\sigma_y'\\sigma_{\\lambda_{n,total}}}\n",
    "$$"
   ]
  }
 ],
 "metadata": {
  "kernelspec": {
   "display_name": "Python 3",
   "language": "python",
   "name": "python3"
  },
  "language_info": {
   "codemirror_mode": {
    "name": "ipython",
    "version": 3
   },
   "file_extension": ".py",
   "mimetype": "text/x-python",
   "name": "python",
   "nbconvert_exporter": "python",
   "pygments_lexer": "ipython3",
   "version": "3.7.2"
  }
 },
 "nbformat": 4,
 "nbformat_minor": 2
}
