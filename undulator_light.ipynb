{
 "cells": [
  {
   "cell_type": "code",
   "execution_count": 1,
   "metadata": {},
   "outputs": [],
   "source": [
    "from undulator import InsertionDevice, ElectronBeam, Beamline"
   ]
  },
  {
   "cell_type": "code",
   "execution_count": 16,
   "metadata": {},
   "outputs": [
    {
     "name": "stdout",
     "output_type": "stream",
     "text": [
      "InsertionDevice:: Kmax=1.38 Period=18.0 mm Ncells=111\n",
      "ElectronBeam:: 3.0 GeV ex=3.4e-10 ey=8e-12 bx=9 by=4.7\n",
      "λₙ => 7.583967046157125e-10\n",
      "Δλₙ/λₙ =>  0.002595528934133948\n",
      "y  => 3.94387404358566e-05\n",
      "yp => 3.3626379722382423e-06\n",
      "x  => 6.774835395692605e-05\n",
      "xp => 6.8835299266104615e-06\n"
     ]
    }
   ],
   "source": [
    "Keff = 1.38\n",
    "lamda_w = 18e-3\n",
    "E = 3e9\n",
    "\n",
    "achr3 = InsertionDevice(Kmax=Keff, lamda_w=lamda_w, Np=111, L=2)\n",
    "r3 = ElectronBeam(energy=E,\n",
    "                  emittance={'x': 340e-12, 'y': 8e-12},\n",
    "                  beta={'x': 9, 'y': 4.7},\n",
    "                  espread=0.8e-3\n",
    "                 )\n",
    "nanomax = Beamline(undulator=achr3, electronbeam=r3)\n",
    "\n",
    "n=1\n",
    "print(nanomax)\n",
    "print(f'\\u03BB\\u2099 => {nanomax.lamda_n(n)}')\n",
    "print(f'\\u0394\\u03BB\\u2099/\\u03BB\\u2099 =>  {nanomax.spectralwidth_total(n) / nanomax.lamda_n(n)}')\n",
    "print(f'y  => {nanomax.source_spot_y(n)}')\n",
    "print(f'yp => {nanomax.source_div_y(n)}')\n",
    "print(f'x  => {nanomax.source_spot_x(n)}')\n",
    "print(f'xp => {nanomax.source_div_x(n)}')"
   ]
  }
 ],
 "metadata": {
  "kernelspec": {
   "display_name": "Python 3",
   "language": "python",
   "name": "python3"
  },
  "language_info": {
   "codemirror_mode": {
    "name": "ipython",
    "version": 3
   },
   "file_extension": ".py",
   "mimetype": "text/x-python",
   "name": "python",
   "nbconvert_exporter": "python",
   "pygments_lexer": "ipython3",
   "version": "3.7.2"
  }
 },
 "nbformat": 4,
 "nbformat_minor": 2
}
